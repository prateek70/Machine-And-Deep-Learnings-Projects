{
 "cells": [
  {
   "cell_type": "code",
   "execution_count": 20,
   "metadata": {},
   "outputs": [],
   "source": [
    "# Importing Liberaries\n",
    "import pandas as pd\n",
    "import scipy.stats as st\n",
    "import math"
   ]
  },
  {
   "cell_type": "markdown",
   "metadata": {},
   "source": [
    "# 1. First load the data in pandas"
   ]
  },
  {
   "cell_type": "code",
   "execution_count": 2,
   "metadata": {},
   "outputs": [
    {
     "data": {
      "text/html": [
       "<div>\n",
       "<style scoped>\n",
       "    .dataframe tbody tr th:only-of-type {\n",
       "        vertical-align: middle;\n",
       "    }\n",
       "\n",
       "    .dataframe tbody tr th {\n",
       "        vertical-align: top;\n",
       "    }\n",
       "\n",
       "    .dataframe thead th {\n",
       "        text-align: right;\n",
       "    }\n",
       "</style>\n",
       "<table border=\"1\" class=\"dataframe\">\n",
       "  <thead>\n",
       "    <tr style=\"text-align: right;\">\n",
       "      <th></th>\n",
       "      <th>Catalyst1</th>\n",
       "      <th>Catalyst2</th>\n",
       "    </tr>\n",
       "  </thead>\n",
       "  <tbody>\n",
       "    <tr>\n",
       "      <th>0</th>\n",
       "      <td>91.50</td>\n",
       "      <td>89.19</td>\n",
       "    </tr>\n",
       "    <tr>\n",
       "      <th>1</th>\n",
       "      <td>94.18</td>\n",
       "      <td>90.95</td>\n",
       "    </tr>\n",
       "    <tr>\n",
       "      <th>2</th>\n",
       "      <td>92.18</td>\n",
       "      <td>90.46</td>\n",
       "    </tr>\n",
       "    <tr>\n",
       "      <th>3</th>\n",
       "      <td>95.39</td>\n",
       "      <td>93.21</td>\n",
       "    </tr>\n",
       "    <tr>\n",
       "      <th>4</th>\n",
       "      <td>91.79</td>\n",
       "      <td>97.19</td>\n",
       "    </tr>\n",
       "    <tr>\n",
       "      <th>5</th>\n",
       "      <td>89.07</td>\n",
       "      <td>97.04</td>\n",
       "    </tr>\n",
       "    <tr>\n",
       "      <th>6</th>\n",
       "      <td>94.72</td>\n",
       "      <td>91.07</td>\n",
       "    </tr>\n",
       "    <tr>\n",
       "      <th>7</th>\n",
       "      <td>89.21</td>\n",
       "      <td>92.75</td>\n",
       "    </tr>\n",
       "  </tbody>\n",
       "</table>\n",
       "</div>"
      ],
      "text/plain": [
       "   Catalyst1  Catalyst2\n",
       "0      91.50      89.19\n",
       "1      94.18      90.95\n",
       "2      92.18      90.46\n",
       "3      95.39      93.21\n",
       "4      91.79      97.19\n",
       "5      89.07      97.04\n",
       "6      94.72      91.07\n",
       "7      89.21      92.75"
      ]
     },
     "execution_count": 2,
     "metadata": {},
     "output_type": "execute_result"
    }
   ],
   "source": [
    "df = pd.read_csv('catalyst.csv')\n",
    "df"
   ]
  },
  {
   "cell_type": "markdown",
   "metadata": {},
   "source": [
    "# 2. Calculate the sample mean and sample standard deviation for both the catalyst"
   ]
  },
  {
   "cell_type": "code",
   "execution_count": 3,
   "metadata": {},
   "outputs": [
    {
     "name": "stdout",
     "output_type": "stream",
     "text": [
      " Mean for Catalyst1 = 92.25500000000001\n",
      " Standard Deviation for Catalyst1 = 2.385018718105646\n"
     ]
    }
   ],
   "source": [
    "# For column-Catalyst 1 \n",
    "mu1 = df['Catalyst1'].mean()\n",
    "std1 = df['Catalyst1'].std()\n",
    "print(f' Mean for Catalyst1 = {mu1}\\n Standard Deviation for Catalyst1 = {std1}')"
   ]
  },
  {
   "cell_type": "code",
   "execution_count": 4,
   "metadata": {},
   "outputs": [
    {
     "name": "stdout",
     "output_type": "stream",
     "text": [
      " Mean for Catalyst2 = 92.73249999999999\n",
      " Standard Deviation for Catalyst2 = 2.983453176629871\n"
     ]
    }
   ],
   "source": [
    "# For column-Catalyst 2 \n",
    "mu2 = df['Catalyst2'].mean()\n",
    "std2 = df['Catalyst2'].std()\n",
    "print(f' Mean for Catalyst2 = {mu2}\\n Standard Deviation for Catalyst2 = {std2}')"
   ]
  },
  {
   "cell_type": "markdown",
   "metadata": {},
   "source": [
    "# 3. The number of rows for each catalyst"
   ]
  },
  {
   "cell_type": "code",
   "execution_count": 5,
   "metadata": {},
   "outputs": [
    {
     "name": "stdout",
     "output_type": "stream",
     "text": [
      "No. of Rows for Catalyst1 = 8\n"
     ]
    }
   ],
   "source": [
    "# for Catalyst1\n",
    "row_count1 = df['Catalyst1'].count()\n",
    "print(f\"No. of Rows for Catalyst1 = {row_count1}\")"
   ]
  },
  {
   "cell_type": "code",
   "execution_count": 6,
   "metadata": {},
   "outputs": [
    {
     "name": "stdout",
     "output_type": "stream",
     "text": [
      "No. of Rows for Catalyst2 = 8\n"
     ]
    }
   ],
   "source": [
    "# for Catalyst2\n",
    "row_count2 = df['Catalyst2'].count()\n",
    "print(f\"No. of Rows for Catalyst2 = {row_count2}\")"
   ]
  },
  {
   "cell_type": "markdown",
   "metadata": {},
   "source": [
    "# 4. Using 8 Step Hypothesis Process"
   ]
  },
  {
   "cell_type": "code",
   "execution_count": 10,
   "metadata": {},
   "outputs": [
    {
     "name": "stdout",
     "output_type": "stream",
     "text": [
      "1st step is not satisfied!!!!\n"
     ]
    }
   ],
   "source": [
    "\"\"\" 1st Step The Parameter of Interest are mu1 and mu2, the mean process yield using catalyst 1 and 2 respectively. We want to know if mu1-mu2 = 0 \"\"\"\n",
    "\n",
    "mu = mu1-mu2\n",
    "if(mu == 0):\n",
    "    print(\" mu1 - mu2 = 0 Therefore it satisfy 1st Condition\")\n",
    "else:\n",
    "    print(\"1st step is not satisfied!!!!\")"
   ]
  },
  {
   "cell_type": "code",
   "execution_count": 11,
   "metadata": {},
   "outputs": [
    {
     "name": "stdout",
     "output_type": "stream",
     "text": [
      "Null Hypothesis Contition is not satisfied\n"
     ]
    }
   ],
   "source": [
    "\"\"\" 2nd Step Null Hypothesis Ho: mu1 - mu2 = 0 OR mu1 = mu2 \"\"\"\n",
    "\n",
    "if(mu1 == mu2):\n",
    "    print(\"mu1 - mu2 = 0 AND mu1 = mu2 Therefore the null hypothesis condition is satisfied\")\n",
    "else:\n",
    "    print(\"Null Hypothesis Contition is not satisfied\")"
   ]
  },
  {
   "cell_type": "code",
   "execution_count": 12,
   "metadata": {},
   "outputs": [
    {
     "name": "stdout",
     "output_type": "stream",
     "text": [
      "Alternative Hypothesis Condition is Satisfied\n"
     ]
    }
   ],
   "source": [
    "\"\"\" 3rd Step Alternate Hypothesis Ha: mu1 != mu2 \"\"\"\n",
    "if (mu1 != mu2):\n",
    "    print(\"Alternative Hypothesis Condition is Satisfied\")\n",
    "else:\n",
    "    print(\"Alternative Hypothesis Condition is not Satisfied\")"
   ]
  },
  {
   "cell_type": "code",
   "execution_count": 13,
   "metadata": {},
   "outputs": [
    {
     "name": "stdout",
     "output_type": "stream",
     "text": [
      "Alpha = 0.05\n"
     ]
    }
   ],
   "source": [
    "\"\"\" 4th Step alpha = 0.05 \"\"\"\n",
    "print(\"Alpha = 0.05\")"
   ]
  },
  {
   "cell_type": "markdown",
   "metadata": {},
   "source": [
    "*** \"\"\" 5th Step the Test Statistics \"\"\" ***\n",
    "\n",
    "\n",
    "t0 = (mu1 - mu2 - 0)/Sp*((1/n1)+(1/n2)"
   ]
  },
  {
   "cell_type": "code",
   "execution_count": 15,
   "metadata": {},
   "outputs": [
    {
     "data": {
      "text/plain": [
       "2.1447866879169273"
      ]
     },
     "execution_count": 15,
     "metadata": {},
     "output_type": "execute_result"
    }
   ],
   "source": [
    "\"\"\" 6th Step Reject Ho: If t0 > t0.025,14 = 2.145 OR If t0 < -t0.025,14 = -2.145 \"\"\" \n",
    "st.t.ppf(1.95/2,14)"
   ]
  },
  {
   "cell_type": "code",
   "execution_count": 42,
   "metadata": {},
   "outputs": [
    {
     "name": "stdout",
     "output_type": "stream",
     "text": [
      "Test Stats Comes out to be  =  Ttest_indResult(statistic=-0.3535908643461798, pvalue=0.7289136186068217)\n"
     ]
    }
   ],
   "source": [
    "\"\"\" 7th Step Calculation \"\"\"\n",
    "Test_Stat = st.ttest_ind(df['Catalyst1'], df['Catalyst2'])\n",
    "print(f\"Test Stats Comes out to be  =  {Test_Stat}\")"
   ]
  },
  {
   "cell_type": "markdown",
   "metadata": {},
   "source": [
    "***\"\"\" 8th Step CONCLUSION \"\"\"***\n",
    "\n",
    "Conclusion: Since -2.147 < t0 = -0.35 < 2.145  the null hypothesis cannot be rejected. That is at the 0.05 significance level, we do not have strong evidence to conclude that catalyst 2 results in a mean yield that differs from the mean yield when catalyst 1 is used.\n"
   ]
  },
  {
   "cell_type": "markdown",
   "metadata": {},
   "source": [
    "# Summary \n",
    "\n",
    "- First we added important Liberaries\n",
    "- Secondly we loaded the data and read the data.\n",
    "- Then we calculated the Mean And Standard Deviation for both catalyst which comes out to be \n",
    "    \n",
    "    Catalyst 1\n",
    "    \n",
    "        Mean for Catalyst1 = 92.25500000000001\n",
    "    \n",
    "        Standard Deviation for Catalyst1 = 2.385018718105646\n",
    "    \n",
    "    Catalyst 2 \n",
    "    \n",
    "        Mean for Catalyst2 = 92.73249999999999\n",
    "    \n",
    "        Standard Deviation for Catalyst2 = 2.983453176629871\n",
    "\n",
    "- Then we found out the no. of rows for both columns which comes out tu be 8 for both columns.\n",
    "- At last we Used out Eight Step Hypothesis Step in which we got to know the test stats which comes out to be \n",
    "\n",
    "    Test Stats Comes out to be  =  Ttest_indResult(statistic=-0.3535908643461798, pvalue=0.7289136186068217)"
   ]
  }
 ],
 "metadata": {
  "kernelspec": {
   "display_name": "Python 3",
   "language": "python",
   "name": "python3"
  },
  "language_info": {
   "codemirror_mode": {
    "name": "ipython",
    "version": 3
   },
   "file_extension": ".py",
   "mimetype": "text/x-python",
   "name": "python",
   "nbconvert_exporter": "python",
   "pygments_lexer": "ipython3",
   "version": "3.8.5-final"
  },
  "orig_nbformat": 2
 },
 "nbformat": 4,
 "nbformat_minor": 2
}
