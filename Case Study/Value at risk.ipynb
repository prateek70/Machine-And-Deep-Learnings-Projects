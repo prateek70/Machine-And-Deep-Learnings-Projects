{
 "cells": [
  {
   "cell_type": "code",
   "execution_count": null,
   "metadata": {},
   "outputs": [],
   "source": [
    "\"\"\"\n",
    "Value at Risk\n",
    " Bookmark this page\n",
    "Case Study - Value at Risk\n",
    "One of the popular terms in fianace is VaR (Value at Risk). VaR does not mean variance. In the 1980s, J.P. Morgan introduced the term VaR to answer the questions of the investors: \"How much might I loose?\". VaR uses probability models to rule out 5% worst case scenario over a time horizon for example next year. Using VaR, a financial company can determine that an asset has a 3% on-month VaR of 2%. This means that there are 3% chances that the asset will decline the value by 2% in one-month time frame.\n",
    "\n",
    "Suppose you are assisting a fund manager. Your manager manages the $1 million portfolio of a wealthy investor. You expect the portfolio to grow 10% over the next year with standard deviation of 30%. You have to assist the fund manager in determining the risk of owning this investment in simple language using VaR that excludes the worst 5% of the scenario.\n",
    "\n",
    "Question 1: Describe the data and select an approach\n",
    "\n",
    "Question 2: Do the risk analysis of the portfolio\n",
    "\n",
    "Question 3: What would be your recommendation to the fund manager. Whether he should continue with this portfolio or consider some portfolio\n",
    "\n",
    "\n",
    "\"\"\""
   ]
  },
  {
   "cell_type": "markdown",
   "metadata": {},
   "source": [
    "# Q1"
   ]
  },
  {
   "cell_type": "markdown",
   "metadata": {},
   "source": [
    "'''\n",
    "\n",
    "We will model the percentage change in portfolio for next year.\n",
    "\n",
    "We will use normal distribution N(〖10,30〗^2 )\n",
    "\n",
    "This represents 10% increase on average with 30% standard deviation.\n",
    "\n",
    "'''"
   ]
  },
  {
   "cell_type": "markdown",
   "metadata": {},
   "source": [
    "# Q2"
   ]
  },
  {
   "cell_type": "code",
   "execution_count": null,
   "metadata": {},
   "outputs": [],
   "source": [
    "\"\"\"\n",
    "\n",
    "We need to find the value of X from the following z value\n",
    "\n",
    "z=(X-μ)/σ\n",
    "\n",
    "First, we need to find the z value corresponding to 5% probability\n",
    "\n",
    "\"\"\""
   ]
  },
  {
   "cell_type": "code",
   "execution_count": 5,
   "metadata": {
    "tags": []
   },
   "outputs": [
    {
     "name": "stdout",
     "output_type": "stream",
     "text": [
      "-1.6448536269514729\n"
     ]
    }
   ],
   "source": [
    "import scipy.stats as st\n",
    "a = st.norm.ppf(0.05)\n",
    "print(a)\n",
    "# We get value of z score as -1.645."
   ]
  },
  {
   "cell_type": "markdown",
   "metadata": {},
   "source": [
    "# Q3"
   ]
  },
  {
   "cell_type": "markdown",
   "metadata": {},
   "source": [
    "\"\"\"\n",
    "We get value of z score as -1.645.\n",
    "\n",
    "X=(-1.645)(30)+10= -39.3%\n",
    "\n",
    "It means the portfolio will change -39.3% of $1 million. That is a loss of $39300.''\n",
    "\n",
    "Summary:-\n",
    "The annual value at risk for the given portfolio us $393000 at 5%. You should recommend some other investment to the fund manager as the risk looks high.\n",
    "\"\"\"\n"
   ]
  }
 ],
 "metadata": {
  "kernelspec": {
   "display_name": "Python 3.7.3 64-bit ('base': conda)",
   "metadata": {
    "interpreter": {
     "hash": "f185db04e7e2e4c7a037040e8c49fbd669dab3fee2bdb02aeffc568274863bf6"
    }
   },
   "name": "Python 3.7.3 64-bit ('base': conda)"
  },
  "language_info": {
   "codemirror_mode": {
    "name": "ipython",
    "version": 3
   },
   "file_extension": ".py",
   "mimetype": "text/x-python",
   "name": "python",
   "nbconvert_exporter": "python",
   "pygments_lexer": "ipython3",
   "version": "3.7.3-final"
  },
  "orig_nbformat": 2
 },
 "nbformat": 4,
 "nbformat_minor": 2
}
