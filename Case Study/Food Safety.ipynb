{
 "cells": [
  {
   "cell_type": "code",
   "execution_count": null,
   "metadata": {},
   "outputs": [],
   "source": [
    "\"\"\"\n",
    "Food Safety\n",
    "\n",
    "Food safety is one of the big challenges for companies that sell packaged food. They always receive complaints from dissatisfied customers. However, an increase in the level of the complaints might be an issue for the reputation of the company. When the food safety-related issues need to be taken very seriously. For any company, it is important to handle such issues proactively to save the reputation of the company.\n",
    "\n",
    "A company sells prepackaged dinners. Normally it receives one or two calls each month from customers stating that they fell sick after consuming the food. Usually, they fell sick not because of food but because of some other environmental infections. If the call volume increases from 1.5 calls per month to 6 calls per month, there is a serious problem. It means that during a normal period the company receives 1.5 calls per month and during the problem period the company receives 6 calls per month. Recently, the company starts receiving 3 calls per month. The\n",
    "\n",
    "senior management wants to know whether there are chances of a problem.\n",
    "\n",
    "As a data scientist, you have been assigned to analyze the problems that the food company is facing.\n",
    "\n",
    "    1. What type of random variable would be suited to model the call volume during the normal period and the problem period and why?\n",
    "    2. Whether it would be surprising to get more than 3 calls a month during the problem period?\n",
    "    3. Whether it would be surprising to get more than 3 calls a month during the normal period?\n",
    "    4. Prepare your analysis and explain why or why not the management should take corrective actions.\n",
    "\n",
    "\"\"\""
   ]
  },
  {
   "cell_type": "markdown",
   "metadata": {},
   "source": [
    "# 1. What type of random variable would be suited to model the call volume during the normal period and the problem period and why?"
   ]
  },
  {
   "cell_type": "markdown",
   "metadata": {},
   "source": [
    "\"\"\" \n",
    "\n",
    "\n",
    "\n",
    "Poisson random variable are well suited for this case study. \n",
    "we have ratio \n",
    "\n",
    "no. of calls in normal period = 1.5\n",
    "\n",
    "no. of calls in problem period = 6\n",
    "\n",
    "\n",
    "\"\"\""
   ]
  },
  {
   "cell_type": "markdown",
   "metadata": {},
   "source": [
    "# 2. Whether it would be surprising to get more than 3 calls a month during the problem period?"
   ]
  },
  {
   "cell_type": "markdown",
   "metadata": {},
   "source": [
    "\"\"\"\n",
    "\n",
    "No, it wouldnt be suprising to get more than 3 calls in the problem period. Its becouse during that period peoples most often get sick due to the change in the environment(Environmental Infection). Therefore we should not take the calls seriously during the problem period.....\n",
    "\n",
    "\"\"\""
   ]
  },
  {
   "cell_type": "markdown",
   "metadata": {},
   "source": [
    "# 3. Whether it would be surprising to get more than 3 calls a month during the normal period?"
   ]
  },
  {
   "cell_type": "markdown",
   "metadata": {},
   "source": [
    "\"\"\"\n",
    "\n",
    "Yes, It would be a little suprising to get more than 3 calls during the normal period becouse during the problem period its more often due to the environmental infection but to get an increase in the no. of calls in the normal period is a Serious ISSUE!!!!.\n",
    "\n",
    "\n",
    "So, the Company should check the quality of the food to be sure that everything is fine from their side but if there are some problem with the quality then the company should take some strict steps so that this thing wont occur again inorder to maintain their status in the Market!!!. \n",
    "\n",
    "\n",
    "\"\"\""
   ]
  },
  {
   "cell_type": "markdown",
   "metadata": {},
   "source": [
    "# 4. Prepare your analysis and explain why or why not the management should take corrective actions."
   ]
  },
  {
   "cell_type": "code",
   "execution_count": 4,
   "metadata": {
    "tags": []
   },
   "outputs": [
    {
     "name": "stdout",
     "output_type": "stream",
     "text": [
      "0.06564245437845007\n"
     ]
    }
   ],
   "source": [
    "#p(more than 3 calls) in normal Period\n",
    "\n",
    "from scipy.stats import poisson\n",
    "mu=1.5\n",
    "print(1-poisson.cdf(3,mu))\n",
    "# It is not normal to get more than 3 calls in Normal period!!!"
   ]
  },
  {
   "cell_type": "code",
   "execution_count": 5,
   "metadata": {
    "tags": []
   },
   "outputs": [
    {
     "name": "stdout",
     "output_type": "stream",
     "text": [
      "0.8487961172233521\n"
     ]
    }
   ],
   "source": [
    "#P(more than 3 calls) in problem period\n",
    "from scipy.stats import poisson\n",
    "mu=6\n",
    "print(1-poisson.cdf(3,mu))\n",
    "# It is normal to get more than 3 calls in problem period!!1"
   ]
  },
  {
   "cell_type": "markdown",
   "metadata": {},
   "source": [
    "\"\"\"\n",
    "\n",
    "It is rare to get many calls during a month. It happens only 6.6% in the month \n",
    "and during a problem time more than 3 calls a month is common 84.87%\n",
    "\n",
    "\n",
    "\"\"\""
   ]
  }
 ],
 "metadata": {
  "kernelspec": {
   "display_name": "Python 3.7.3 64-bit ('Gagandeep': virtualenv)",
   "metadata": {
    "interpreter": {
     "hash": "f185db04e7e2e4c7a037040e8c49fbd669dab3fee2bdb02aeffc568274863bf6"
    }
   },
   "name": "Python 3.7.3 64-bit ('Gagandeep': virtualenv)"
  },
  "language_info": {
   "codemirror_mode": {
    "name": "ipython",
    "version": 3
   },
   "file_extension": ".py",
   "mimetype": "text/x-python",
   "name": "python",
   "nbconvert_exporter": "python",
   "pygments_lexer": "ipython3",
   "version": "3.7.3-final"
  },
  "orig_nbformat": 2
 },
 "nbformat": 4,
 "nbformat_minor": 2
}
